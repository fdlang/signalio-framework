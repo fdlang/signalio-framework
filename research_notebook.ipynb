{
 "cells": [
  {
   "cell_type": "code",
   "execution_count": 19,
   "metadata": {},
   "outputs": [],
   "source": [
    "from binance.client import Client\n",
    "from binance.exceptions import BinanceAPIException, BinanceRequestException\n",
    "import pandas as pd"
   ]
  },
  {
   "cell_type": "code",
   "execution_count": 20,
   "metadata": {},
   "outputs": [],
   "source": [
    "client = Client(\"0ppfXZtnEyP5tINDcKvVSh5XLwPNHChrS7MTQ44MgS7zVXEeO1QqpICaHBr94bGa\", \"LyAdCy4nMkwSOGVf7lAdwjXnI7ijPoLn6WiPOMhFwn8Lc8hYvn4VtKh3755AW6aA\")"
   ]
  },
  {
   "cell_type": "code",
   "execution_count": 85,
   "metadata": {},
   "outputs": [
    {
     "data": {
      "text/html": [
       "<div>\n",
       "<style scoped>\n",
       "    .dataframe tbody tr th:only-of-type {\n",
       "        vertical-align: middle;\n",
       "    }\n",
       "\n",
       "    .dataframe tbody tr th {\n",
       "        vertical-align: top;\n",
       "    }\n",
       "\n",
       "    .dataframe thead th {\n",
       "        text-align: right;\n",
       "    }\n",
       "</style>\n",
       "<table border=\"1\" class=\"dataframe\">\n",
       "  <thead>\n",
       "    <tr style=\"text-align: right;\">\n",
       "      <th></th>\n",
       "      <th>Open time</th>\n",
       "      <th>Open</th>\n",
       "      <th>High</th>\n",
       "      <th>Low</th>\n",
       "      <th>Close</th>\n",
       "      <th>Volume</th>\n",
       "      <th>Close time</th>\n",
       "      <th>Quote asset volume</th>\n",
       "      <th>Number of trades</th>\n",
       "      <th>Taker buy base asset volume</th>\n",
       "      <th>Taker buy quote asset volume</th>\n",
       "      <th>Ignore</th>\n",
       "    </tr>\n",
       "  </thead>\n",
       "  <tbody>\n",
       "    <tr>\n",
       "      <th>0</th>\n",
       "      <td>2024-10-02 04:00:00</td>\n",
       "      <td>61750.46000000</td>\n",
       "      <td>61750.47000000</td>\n",
       "      <td>61440.00000000</td>\n",
       "      <td>61495.79000000</td>\n",
       "      <td>704.31237000</td>\n",
       "      <td>1727845199999</td>\n",
       "      <td>43359409.11232200</td>\n",
       "      <td>112478</td>\n",
       "      <td>285.14662000</td>\n",
       "      <td>17555124.40581380</td>\n",
       "      <td>0</td>\n",
       "    </tr>\n",
       "  </tbody>\n",
       "</table>\n",
       "</div>"
      ],
      "text/plain": [
       "            Open time            Open            High             Low  \\\n",
       "0 2024-10-02 04:00:00  61750.46000000  61750.47000000  61440.00000000   \n",
       "\n",
       "            Close        Volume     Close time Quote asset volume  \\\n",
       "0  61495.79000000  704.31237000  1727845199999  43359409.11232200   \n",
       "\n",
       "   Number of trades Taker buy base asset volume Taker buy quote asset volume  \\\n",
       "0            112478                285.14662000            17555124.40581380   \n",
       "\n",
       "  Ignore  \n",
       "0      0  "
      ]
     },
     "execution_count": 85,
     "metadata": {},
     "output_type": "execute_result"
    }
   ],
   "source": [
    "\n",
    "symbol = \"BTCUSDT\" \n",
    "interval = Client.KLINE_INTERVAL_1HOUR # intervalo de tiempo para las velas \n",
    "limit = 2 # limite de velas\n",
    "klines = client.get_klines(symbol=symbol,interval=interval,limit=limit)\n",
    "\n",
    "barss = pd.DataFrame(klines, columns=[\n",
    "    'Open time', 'Open', 'High', 'Low', 'Close', 'Volume',\n",
    "    'Close time', 'Quote asset volume', 'Number of trades',\n",
    "    'Taker buy base asset volume', 'Taker buy quote asset volume', 'Ignore'\n",
    "])\n",
    "\n",
    "barss['Open time'] = pd.to_datetime(barss['Open time'], unit='ms') # formatea la fecha\n",
    "bars = barss.iloc[[0]] # accede a la primera fila del dataframe 'penultima vela' \n",
    "bars"
   ]
  }
 ],
 "metadata": {
  "kernelspec": {
   "display_name": "signalpython",
   "language": "python",
   "name": "python3"
  },
  "language_info": {
   "codemirror_mode": {
    "name": "ipython",
    "version": 3
   },
   "file_extension": ".py",
   "mimetype": "text/x-python",
   "name": "python",
   "nbconvert_exporter": "python",
   "pygments_lexer": "ipython3",
   "version": "3.11.9"
  }
 },
 "nbformat": 4,
 "nbformat_minor": 2
}
