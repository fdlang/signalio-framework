{
 "cells": [
  {
   "cell_type": "code",
   "execution_count": 1,
   "metadata": {},
   "outputs": [],
   "source": [
    "from binance.client import Client\n",
    "from binance.exceptions import BinanceAPIException, BinanceRequestException\n",
    "import pandas as pd"
   ]
  },
  {
   "cell_type": "code",
   "execution_count": 2,
   "metadata": {},
   "outputs": [],
   "source": [
    "client = Client(\"0ppfXZtnEyP5tINDcKvVSh5XLwPNHChrS7MTQ44MgS7zVXEeO1QqpICaHBr94bGa\", \"LyAdCy4nMkwSOGVf7lAdwjXnI7ijPoLn6WiPOMhFwn8Lc8hYvn4VtKh3755AW6aA\")"
   ]
  },
  {
   "cell_type": "code",
   "execution_count": 3,
   "metadata": {},
   "outputs": [
    {
     "name": "stdout",
     "output_type": "stream",
     "text": [
      "<class 'pandas.core.series.Series'>\n"
     ]
    }
   ],
   "source": [
    "\n",
    "try:\n",
    "    symbol = \"SOLUSDT\" \n",
    "    interval = Client.KLINE_INTERVAL_1HOUR # intervalo de tiempo para las velas \n",
    "    limit = 2 # limite de velas\n",
    "\n",
    "    klines = client.get_klines(symbol=symbol,interval=interval,limit=limit)\n",
    "\n",
    "    barss = pd.DataFrame(klines, columns=[\n",
    "        'Open time', 'Open', 'High', 'Low', 'Close', 'Volume',\n",
    "        'Close time', 'Quote asset volume', 'Number of trades',\n",
    "        'Taker buy base asset volume', 'Taker buy quote asset volume', 'Ignore'\n",
    "    ])\n",
    "\n",
    "    barss['Open time'] = pd.to_datetime(barss['Open time'], unit='ms') # formatea la fecha\n",
    "    barss.set_index('Open time', inplace=True)\n",
    "\n",
    "    bars = barss.iloc[[0]] # accede a la primera fila del dataframe 'penultima vela' \n",
    "    bars\n",
    "\n",
    "except BinanceAPIException as e:\n",
    "    print(f\"El símbolo {symbol} no existe o no se ha podido recuperar sus datos.\")\n",
    "except AttributeError as e:\n",
    "    print(f\"El intervalo de tiempo {interval} no es valido.\")\n",
    "else:\n",
    "    print(type(bars.iloc[-1]))"
   ]
  },
  {
   "cell_type": "code",
   "execution_count": 4,
   "metadata": {},
   "outputs": [],
   "source": [
    "\n",
    "def get_latest_tick( symbol:str) -> dict:\n",
    "    try:\n",
    "        tick = client.get_recent_trades(symbol=symbol,limit=1)\n",
    "\n",
    "        if tick is None:\n",
    "            print(f\"No se ha podido recuperar el últinmo tick de {symbol}\")\n",
    "\n",
    "    except BinanceAPIException as e:\n",
    "        print(f\"No se ha podido recuperar el ultimo tick, el símbolo {symbol} no es correcto.\")\n",
    "    except BinanceRequestException as e:\n",
    "        print(f\"Algo no ha salido bien a la hora de recuperar el último tick de {symbol}\")\n",
    "    except Exception as e:\n",
    "        print(f\"Algo no ha salido bien a la hora de recuperar el último tick, error: {e}\")\n",
    "        \n",
    "    else:\n",
    "        return tick"
   ]
  },
  {
   "cell_type": "code",
   "execution_count": 5,
   "metadata": {},
   "outputs": [
    {
     "data": {
      "text/plain": [
       "[{'id': 726040368,\n",
       "  'price': '145.84000000',\n",
       "  'qty': '12.47800000',\n",
       "  'quoteQty': '1819.79152000',\n",
       "  'time': 1728240705930,\n",
       "  'isBuyerMaker': True,\n",
       "  'isBestMatch': True}]"
      ]
     },
     "execution_count": 5,
     "metadata": {},
     "output_type": "execute_result"
    }
   ],
   "source": [
    "get_latest_tick(\"SOLUSDT\")"
   ]
  }
 ],
 "metadata": {
  "kernelspec": {
   "display_name": "signalpython",
   "language": "python",
   "name": "python3"
  },
  "language_info": {
   "codemirror_mode": {
    "name": "ipython",
    "version": 3
   },
   "file_extension": ".py",
   "mimetype": "text/x-python",
   "name": "python",
   "nbconvert_exporter": "python",
   "pygments_lexer": "ipython3",
   "version": "3.11.9"
  }
 },
 "nbformat": 4,
 "nbformat_minor": 2
}
