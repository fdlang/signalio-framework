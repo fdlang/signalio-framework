{
 "cells": [
  {
   "cell_type": "code",
   "execution_count": 1,
   "metadata": {},
   "outputs": [],
   "source": [
    "from binance.client import Client\n",
    "from binance.exceptions import BinanceAPIException, BinanceRequestException\n",
    "import pandas as pd"
   ]
  },
  {
   "cell_type": "code",
   "execution_count": 2,
   "metadata": {},
   "outputs": [],
   "source": [
    "client = Client(\"0ppfXZtnEyP5tINDcKvVSh5XLwPNHChrS7MTQ44MgS7zVXEeO1QqpICaHBr94bGa\", \"LyAdCy4nMkwSOGVf7lAdwjXnI7ijPoLn6WiPOMhFwn8Lc8hYvn4VtKh3755AW6aA\")"
   ]
  },
  {
   "cell_type": "code",
   "execution_count": 3,
   "metadata": {},
   "outputs": [
    {
     "name": "stdout",
     "output_type": "stream",
     "text": [
      "138.91199999999998\n"
     ]
    }
   ],
   "source": [
    "\n",
    "try:\n",
    "    symbol = \"SOLUSDT\" \n",
    "    interval = Client.KLINE_INTERVAL_1HOUR # intervalo de tiempo para las velas \n",
    "    limit = 50 # limite de velas\n",
    "\n",
    "    klines = client.get_klines(symbol=symbol,interval=interval,limit=limit)\n",
    "\n",
    "    barss = pd.DataFrame(klines, columns=[\n",
    "        'Open time', 'Open', 'High', 'Low', 'Close', 'Volume',\n",
    "        'Close time', 'Quote asset volume', 'Number of trades',\n",
    "        'Taker buy base asset volume', 'Taker buy quote asset volume', 'Ignore'\n",
    "    ])\n",
    "\n",
    "    barss['Open time'] = pd.to_datetime(barss['Open time'], unit='ms') # formatea la fecha\n",
    "    barss.set_index('Open time', inplace=True)\n",
    "\n",
    "    bars = barss.iloc[[0]] # accede a la primera fila del dataframe 'penultima vela' \n",
    "    bars\n",
    "\n",
    "except BinanceAPIException as e:\n",
    "    print(f\"El símbolo {symbol} no existe o no se ha podido recuperar sus datos.\")\n",
    "except AttributeError as e:\n",
    "    print(f\"El intervalo de tiempo {interval} no es valido.\")\n",
    "else:\n",
    "    print(barss['Close'].rolling(10).mean().iloc[-1])"
   ]
  },
  {
   "cell_type": "code",
   "execution_count": 7,
   "metadata": {},
   "outputs": [],
   "source": [
    "def get_latest_closed_bars(symbol: str, timeframe: str, num_bars: int) -> pd.DataFrame:\n",
    "\n",
    "        # Define los paramertros adecuados\n",
    "        interval = timeframe # intervalo de tiempo para las velas \n",
    "        limit = num_bars if num_bars > 0 else 1\n",
    "        \n",
    "        try:\n",
    "            # Recupera los datos de las 2 ultimas velas\n",
    "            klines = client.get_klines(symbol=symbol,interval=interval,limit=limit)\n",
    "\n",
    "            if klines is None:\n",
    "                print(f\"El símbolo {klines} no existe o no se ha podido recuperar sus datos\")\n",
    "            else:\n",
    "                # Crea la cabecera del DataFrame\n",
    "                barss = pd.DataFrame(klines, columns=[\n",
    "                    'Open time', 'Open', 'High', 'Low', 'Close', 'Volume',\n",
    "                    'Close time', 'Quote asset volume', 'Number of trades',\n",
    "                    'Taker buy base asset volume', 'Taker buy quote asset volume', 'Ignore'\n",
    "                ])\n",
    "\n",
    "                # Convierte la columna Open time a datatime\n",
    "                barss['Open time'] = pd.to_datetime(barss['Open time'], unit='ms') \n",
    "                barss.set_index('Open time', inplace=True)\n",
    "\n",
    "                # Renombra ciertas columnas\n",
    "                barss.rename(columns={\n",
    "                    'Quote asset volume':'Qte Asset Vol', \n",
    "                    'Number of trades':'Num Trades', \n",
    "                    'Taker buy base asset volume':'Taker Buy Vol', \n",
    "                    'Taker buy quote asset volume':'Taker Qte Vol'\n",
    "                }, inplace=True) \n",
    "\n",
    "        except BinanceAPIException as e:\n",
    "            print(f\"El símbolo {symbol} no existe o no se ha podido recuperar sus datos.\")\n",
    "        except AttributeError as e:\n",
    "            print(f\"El intervalo de tiempo {interval} no es valido.\")\n",
    "        \n",
    "        else:\n",
    "            # si todo ok devuelve el dataframe\n",
    "            return barss"
   ]
  },
  {
   "cell_type": "code",
   "execution_count": 4,
   "metadata": {},
   "outputs": [],
   "source": [
    "\n",
    "def get_latest_tick( symbol:str) -> dict:\n",
    "    try:\n",
    "        tick = client.get_recent_trades(symbol=symbol,limit=1)\n",
    "\n",
    "        if tick is None:\n",
    "            print(f\"No se ha podido recuperar el últinmo tick de {symbol}\")\n",
    "\n",
    "    except BinanceAPIException as e:\n",
    "        print(f\"No se ha podido recuperar el ultimo tick, el símbolo {symbol} no es correcto.\")\n",
    "    except BinanceRequestException as e:\n",
    "        print(f\"Algo no ha salido bien a la hora de recuperar el último tick de {symbol}\")\n",
    "    except Exception as e:\n",
    "        print(f\"Algo no ha salido bien a la hora de recuperar el último tick, error: {e}\")\n",
    "        \n",
    "    else:\n",
    "        return tick"
   ]
  },
  {
   "cell_type": "code",
   "execution_count": 6,
   "metadata": {},
   "outputs": [
    {
     "data": {
      "text/plain": [
       "[{'id': 729978535,\n",
       "  'price': '140.83000000',\n",
       "  'qty': '0.49700000',\n",
       "  'quoteQty': '69.99251000',\n",
       "  'time': 1728485180947,\n",
       "  'isBuyerMaker': False,\n",
       "  'isBestMatch': True}]"
      ]
     },
     "execution_count": 6,
     "metadata": {},
     "output_type": "execute_result"
    }
   ],
   "source": [
    "get_latest_tick(\"SOLUSDT\")"
   ]
  },
  {
   "cell_type": "code",
   "execution_count": 9,
   "metadata": {},
   "outputs": [
    {
     "data": {
      "text/plain": [
       "141.407"
      ]
     },
     "execution_count": 9,
     "metadata": {},
     "output_type": "execute_result"
    }
   ],
   "source": [
    "# Obtiene las últimas velas de 1 hora de SOL/USDT\n",
    "bars_prueba = get_latest_closed_bars(symbol=\"SOLUSDT\", timeframe=client.KLINE_INTERVAL_1HOUR, num_bars=50)\n",
    "bars_prueba['Close'] = pd.to_numeric(bars_prueba['Close'])\n",
    "bars_prueba['Close'][-50:].mean()\n"
   ]
  },
  {
   "cell_type": "code",
   "execution_count": 11,
   "metadata": {},
   "outputs": [
    {
     "data": {
      "text/plain": [
       "Open time\n",
       "2024-10-08 15:00:00        NaN\n",
       "2024-10-08 16:00:00        NaN\n",
       "2024-10-08 17:00:00        NaN\n",
       "2024-10-08 18:00:00        NaN\n",
       "2024-10-08 19:00:00        NaN\n",
       "2024-10-08 20:00:00        NaN\n",
       "2024-10-08 21:00:00        NaN\n",
       "2024-10-08 22:00:00        NaN\n",
       "2024-10-08 23:00:00        NaN\n",
       "2024-10-09 00:00:00    143.628\n",
       "2024-10-09 01:00:00    143.831\n",
       "2024-10-09 02:00:00    143.842\n",
       "2024-10-09 03:00:00    143.902\n",
       "2024-10-09 04:00:00    143.942\n",
       "2024-10-09 05:00:00    143.988\n",
       "2024-10-09 06:00:00    143.896\n",
       "2024-10-09 07:00:00    143.791\n",
       "2024-10-09 08:00:00    143.759\n",
       "2024-10-09 09:00:00    143.735\n",
       "2024-10-09 10:00:00    143.575\n",
       "2024-10-09 11:00:00    143.412\n",
       "2024-10-09 12:00:00    143.206\n",
       "2024-10-09 13:00:00    142.923\n",
       "2024-10-09 14:00:00    142.722\n",
       "2024-10-09 15:00:00    142.585\n",
       "2024-10-09 16:00:00    142.315\n",
       "2024-10-09 17:00:00    142.115\n",
       "2024-10-09 18:00:00    141.879\n",
       "2024-10-09 19:00:00    141.666\n",
       "2024-10-09 20:00:00    141.280\n",
       "2024-10-09 21:00:00    140.946\n",
       "2024-10-09 22:00:00    140.681\n",
       "2024-10-09 23:00:00    140.503\n",
       "2024-10-10 00:00:00    140.220\n",
       "2024-10-10 01:00:00    139.867\n",
       "2024-10-10 02:00:00    139.756\n",
       "2024-10-10 03:00:00    139.628\n",
       "2024-10-10 04:00:00    139.558\n",
       "2024-10-10 05:00:00    139.501\n",
       "2024-10-10 06:00:00    139.670\n",
       "2024-10-10 07:00:00    139.653\n",
       "2024-10-10 08:00:00    139.598\n",
       "2024-10-10 09:00:00    139.508\n",
       "2024-10-10 10:00:00    139.606\n",
       "2024-10-10 11:00:00    139.720\n",
       "2024-10-10 12:00:00    139.641\n",
       "2024-10-10 13:00:00    139.460\n",
       "2024-10-10 14:00:00    139.225\n",
       "2024-10-10 15:00:00    139.037\n",
       "2024-10-10 16:00:00    138.882\n",
       "Name: Close, dtype: float64"
      ]
     },
     "execution_count": 11,
     "metadata": {},
     "output_type": "execute_result"
    }
   ],
   "source": [
    "\n",
    "bars_prueba['Close'].rolling(10).mean()"
   ]
  },
  {
   "cell_type": "code",
   "execution_count": 10,
   "metadata": {},
   "outputs": [
    {
     "data": {
      "text/plain": [
       "138.882"
      ]
     },
     "execution_count": 10,
     "metadata": {},
     "output_type": "execute_result"
    }
   ],
   "source": [
    "\n",
    "bars_prueba['Close'].rolling(10).mean().iloc[-1]"
   ]
  },
  {
   "cell_type": "code",
   "execution_count": 20,
   "metadata": {},
   "outputs": [
    {
     "name": "stdout",
     "output_type": "stream",
     "text": [
      "0.10000000\n"
     ]
    }
   ],
   "source": [
    "exchange_info = client.get_symbol_info(\"ADABTC\")\n",
    "exchange_info_filters = exchange_info['filters']\n",
    "\n",
    "for fliter in exchange_info_filters:\n",
    "    if fliter['filterType'] == 'LOT_SIZE':\n",
    "        minQty = fliter['minQty']\n",
    "\n",
    "print(minQty)\n"
   ]
  }
 ],
 "metadata": {
  "kernelspec": {
   "display_name": "signalpython",
   "language": "python",
   "name": "python3"
  },
  "language_info": {
   "codemirror_mode": {
    "name": "ipython",
    "version": 3
   },
   "file_extension": ".py",
   "mimetype": "text/x-python",
   "name": "python",
   "nbconvert_exporter": "python",
   "pygments_lexer": "ipython3",
   "version": "3.11.9"
  }
 },
 "nbformat": 4,
 "nbformat_minor": 2
}
